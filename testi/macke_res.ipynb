{
 "cells": [
  {
   "cell_type": "code",
   "execution_count": 1,
   "metadata": {},
   "outputs": [],
   "source": [
    "import csv\n",
    "import os\n",
    "import requests"
   ]
  },
  {
   "attachments": {},
   "cell_type": "markdown",
   "metadata": {},
   "source": [
    "# 1. Nekaj pomožnih orodij za pridobivanje podatkov s spleta"
   ]
  },
  {
   "cell_type": "code",
   "execution_count": 2,
   "metadata": {},
   "outputs": [],
   "source": [
    "# definirajte URL glavne strani bolhe za oglase z mačkami\n",
    "cats_frontpage_url = 'https://www.bolha.com/macke'\n",
    "# mapa, v katero bomo shranili podatke\n",
    "cat_directory = 'podatki'\n",
    "# ime datoteke, v katero bomo shranili glavno stran\n",
    "frontpage_filename = 'glavna.html'\n",
    "# ime CSV datoteke, v katero bomo shranili podatke\n",
    "csv_filename = 'macke.csv'"
   ]
  },
  {
   "cell_type": "code",
   "execution_count": 3,
   "metadata": {},
   "outputs": [
    {
     "name": "stdout",
     "output_type": "stream",
     "text": [
      "macke.csv\n"
     ]
    }
   ],
   "source": [
    "print(csv_filename)"
   ]
  },
  {
   "cell_type": "code",
   "execution_count": 4,
   "metadata": {},
   "outputs": [],
   "source": [
    "import traceback  # za popolno poročilo o napaki\n",
    "\n",
    "\n",
    "def download_url_to_string(url):\n",
    "    \"\"\"Funkcija kot argument sprejme niz in poskusi vrniti vsebino te spletne\n",
    "    strani kot niz. V primeru, da med izvajanje pride do napake vrne None.\n",
    "    \"\"\"\n",
    "    try:\n",
    "        # del kode, ki morda sproži napako\n",
    "        page_content = requests.get(url)\n",
    "        if page_content.status_code == 200:\n",
    "            return page_content.text\n",
    "        else:\n",
    "            raise ValueError(f\"Čudna koda: {page_content.status_code}\")\n",
    "    except Exception:\n",
    "        # koda, ki se izvede pri napaki\n",
    "        # dovolj je če izpišemo opozorilo in prekinemo izvajanje funkcije\n",
    "        print(f\"Prišlo je do spodnje napake:\\n{traceback.format_exc()}\")\n",
    "\n",
    "\n",
    "def save_string_to_file(text, directory, filename):\n",
    "    \"\"\"Funkcija zapiše vrednost parametra \"text\" v novo ustvarjeno datoteko\n",
    "    locirano v \"directory\"/\"filename\", ali povozi obstoječo. V primeru, da je\n",
    "    niz \"directory\" prazen datoteko ustvari v trenutni mapi.\n",
    "    \"\"\"\n",
    "    os.makedirs(directory, exist_ok=True)\n",
    "    path = os.path.join(directory, filename)\n",
    "    with open(path, 'w', encoding='utf-8') as file_out:\n",
    "        file_out.write(text)\n",
    "    return None"
   ]
  },
  {
   "attachments": {},
   "cell_type": "markdown",
   "metadata": {},
   "source": [
    "Definirajte funkcijo (s pomočjo gornjih dveh), ki prenese glavno stran in jo shrani v datoteko.\n",
    "\n",
    "V ločeni celici jo nato pokličite in shranite naslovno stran oglasov za mačke. Če želite še več oglasov, prilagodite url in mu dodajte npr. `?page=3`."
   ]
  },
  {
   "cell_type": "code",
   "execution_count": 5,
   "metadata": {},
   "outputs": [],
   "source": [
    "def save_frontpage(page, directory, filename):\n",
    "    \"\"\"Funkcija shrani vsebino spletne strani na naslovu \"page\" v datoteko\n",
    "    \"directory\"/\"filename\".\"\"\"\n",
    "    html_strani = download_url_to_string(page)\n",
    "    save_string_to_file(html_strani, directory, filename)\n"
   ]
  },
  {
   "cell_type": "code",
   "execution_count": 9,
   "metadata": {},
   "outputs": [],
   "source": [
    "save_frontpage(cats_frontpage_url, cat_directory, frontpage_filename)"
   ]
  },
  {
   "attachments": {},
   "cell_type": "markdown",
   "metadata": {},
   "source": [
    "# 2. Po pridobitvi podatkov jih želimo obdelati\n",
    "\n",
    "Definirajmo nekaj funkcij - vsaka bo opravila en kos dela."
   ]
  },
  {
   "cell_type": "code",
   "execution_count": 6,
   "metadata": {},
   "outputs": [],
   "source": [
    "def read_file_to_string(directory, filename):\n",
    "    \"\"\"Funkcija vrne celotno vsebino datoteke \"directory\"/\"filename\" kot niz.\"\"\"\n",
    "    path = os.path.join(directory, filename)\n",
    "    with open(path, 'r', encoding='utf-8') as f:\n",
    "        return f.read()"
   ]
  },
  {
   "attachments": {},
   "cell_type": "markdown",
   "metadata": {},
   "source": [
    "Definirajte funkcijo, ki sprejme niz, ki predstavlja vsebino spletne strani,\n",
    "in ga razdeli na dele, kjer vsak del predstavlja en oglas. To storite s\n",
    "pomočjo regularnih izrazov, ki označujejo začetek in konec posameznega\n",
    "oglasa. Funkcija naj vrne seznam nizov.\n",
    "\n",
    "**Komentar**: Na vajah se je izkazalo, da vzorec\n",
    "\n",
    "```\n",
    "vzorec = \"<article.+?</article>\"\n",
    "```\n",
    "\n",
    "ni popoln, saj nam da še nekatere druge oglase poleg mačk, ki jih želimo, kar je kasneje privedlo do napak pri iskanju cene ipd.\n",
    "\n",
    "Popravimo ga tako, da preverimo, da se povezava, ki je prisotna v oglasu, res nanaša na mačke.\n"
   ]
  },
  {
   "cell_type": "code",
   "execution_count": 7,
   "metadata": {},
   "outputs": [],
   "source": [
    "import re\n",
    "\n",
    "\n",
    "def page_to_ads(page_content):\n",
    "    \"\"\"Funkcija poišče posamezne oglase, ki se nahajajo v spletni strani in\n",
    "    vrne seznam oglasov.\"\"\"\n",
    "    vzorec = '<article.+?href=\"/macke.+?</article>'\n",
    "    return re.findall(vzorec, page_content, flags=re.DOTALL)"
   ]
  },
  {
   "cell_type": "code",
   "execution_count": 21,
   "metadata": {},
   "outputs": [
    {
     "name": "stdout",
     "output_type": "stream",
     "text": [
      "['macke.ipynb', 'macke.py', 'orig.py', 'podatki', 'zajemanjePodatkov', 'zajemanjePodatkov.zip']\n",
      "26\n"
     ]
    }
   ],
   "source": [
    "print(os.listdir())\n",
    "vsebina = read_file_to_string(cat_directory, frontpage_filename)\n",
    "oglasi = page_to_ads(vsebina)\n",
    "print(len(oglasi))"
   ]
  },
  {
   "attachments": {},
   "cell_type": "markdown",
   "metadata": {},
   "source": [
    "Definirajte funkcijo, ki sprejme niz, ki predstavlja oglas, in izlušči\n",
    "podatke o imenu, lokaciji, datumu objave in ceni v oglasu.\n"
   ]
  },
  {
   "cell_type": "code",
   "execution_count": 19,
   "metadata": {},
   "outputs": [],
   "source": [
    "def get_dict_from_ad_block(block):\n",
    "    \"\"\"Funkcija iz niza za posamezen oglasni blok izlušči podatke o imenu, ceni\n",
    "    in opisu ter vrne slovar, ki vsebuje ustrezne podatke.\"\"\"\n",
    "    vzorec_ime = '<h3 class=\"entity-title\">.+?>(.+?)<'\n",
    "    vzorec_cena = r'<strong class=\"price price--hrk\">.*?(\\d+|Cena po dogovoru)'\n",
    "    vzorec_datum = r'pubdate=\"pubdate\">([0-9.]+)<'\n",
    "    try:\n",
    "        ime = re.search(vzorec_ime, block).group(1)\n",
    "        cena = re.search(vzorec_cena, block, flags=re.DOTALL).group(1)\n",
    "        datum = re.search(vzorec_datum, block).group(1)\n",
    "    except AttributeError:\n",
    "        print(f\"Nepopolni vzorci pri (čudnem?) oglasu\\n{block}\")\n",
    "        raise\n",
    "    return {\"ime\": ime, \"cena\": cena, \"datum\": datum}"
   ]
  },
  {
   "cell_type": "code",
   "execution_count": 22,
   "metadata": {},
   "outputs": [
    {
     "name": "stdout",
     "output_type": "stream",
     "text": [
      "{'ime': 'Britanka samička BLH WCF Pedigree', 'cena': '750', 'datum': '16.05.2023.'}\n",
      "{'ime': 'Britanka - britanke', 'cena': '500', 'datum': '17.05.2023.'}\n",
      "{'ime': 'Ragdoll mladički', 'cena': 'Cena po dogovoru', 'datum': '17.05.2023.'}\n",
      "{'ime': 'SOFI', 'cena': 'Cena po dogovoru', 'datum': '17.05.2023.'}\n",
      "{'ime': 'VLADKO', 'cena': 'Cena po dogovoru', 'datum': '17.05.2023.'}\n",
      "{'ime': 'ALFI (rezerviran)', 'cena': 'Cena po dogovoru', 'datum': '17.05.2023.'}\n",
      "{'ime': 'Britanec za parjenje', 'cena': 'Cena po dogovoru', 'datum': '16.05.2023.'}\n",
      "{'ime': 'Mala črna igriva in cartljiva mucka išče novi dom', 'cena': '0', 'datum': '16.05.2023.'}\n",
      "{'ime': 'Britanka samička BLH WCF Pedigree', 'cena': '750', 'datum': '16.05.2023.'}\n",
      "{'ime': 'prodam britanko', 'cena': '300', 'datum': '16.05.2023.'}\n",
      "{'ime': 'Britanke modre', 'cena': '500', 'datum': '16.05.2023.'}\n",
      "{'ime': 'BENGALKA - MLADIČKI S FIFe RODOVNIKOM', 'cena': '1', 'datum': '16.05.2023.'}\n",
      "{'ime': 'BRITANKA - MLADIČKI čistokrvni z rodovniki', 'cena': 'Cena po dogovoru', 'datum': '16.05.2023.'}\n",
      "{'ime': 'Maine coon mladicki', 'cena': 'Cena po dogovoru', 'datum': '15.05.2023.'}\n",
      "{'ime': 'Bengalska mačka - SILVER MLADIČKI - slovenski rodovnik FIFe', 'cena': '900', 'datum': '15.05.2023.'}\n",
      "{'ime': 'Britanke z rodovnikom', 'cena': 'Cena po dogovoru', 'datum': '15.05.2023.'}\n",
      "{'ime': 'Britanka mladiči', 'cena': '500', 'datum': '15.05.2023.'}\n",
      "{'ime': 'Ragdoll mladički', 'cena': '500', 'datum': '15.05.2023.'}\n",
      "{'ime': 'Perzijske mačke, mladički', 'cena': 'Cena po dogovoru', 'datum': '14.05.2023.'}\n",
      "{'ime': 'Dolgodlaki mucek', 'cena': '200', 'datum': '14.05.2023.'}\n",
      "{'ime': 'Mlade mucke', 'cena': 'Cena po dogovoru', 'datum': '14.05.2023.'}\n",
      "{'ime': 'Dolgodlaka britanka', 'cena': '200', 'datum': '14.05.2023.'}\n",
      "{'ime': 'Siamski muc', 'cena': 'Cena po dogovoru', 'datum': '14.05.2023.'}\n",
      "{'ime': 'Maine coon mladički', 'cena': 'Cena po dogovoru', 'datum': '14.05.2023.'}\n",
      "{'ime': 'Bengalski mačići', 'cena': 'Cena po dogovoru', 'datum': '13.05.2023.'}\n",
      "{'ime': 'Maine coon mladicki', 'cena': 'Cena po dogovoru', 'datum': '13.05.2023.'}\n"
     ]
    }
   ],
   "source": [
    "for oglas in oglasi:\n",
    "    print(get_dict_from_ad_block(oglas))"
   ]
  },
  {
   "attachments": {},
   "cell_type": "markdown",
   "metadata": {},
   "source": [
    "Definirajte funkcijo, ki sprejme ime in lokacijo datoteke, ki vsebuje\n",
    "besedilo spletne strani, in vrne seznam slovarjev, ki vsebujejo podatke o\n",
    "vseh oglasih strani."
   ]
  },
  {
   "cell_type": "code",
   "execution_count": 23,
   "metadata": {},
   "outputs": [],
   "source": [
    "def ads_from_file(filename, directory):\n",
    "    \"\"\"Funkcija prebere podatke v datoteki \"directory\"/\"filename\" in jih\n",
    "    pretvori (razčleni) v pripadajoč seznam slovarjev za vsak oglas posebej.\"\"\"\n",
    "    vsebina = read_file_to_string(directory, filename)\n",
    "    oglasi = page_to_ads(vsebina)\n",
    "    slovarji = []\n",
    "    for oglas in oglasi:\n",
    "        slovarji.append(get_dict_from_ad_block(oglas))\n",
    "    return slovarji"
   ]
  },
  {
   "cell_type": "code",
   "execution_count": 24,
   "metadata": {},
   "outputs": [
    {
     "data": {
      "text/plain": [
       "[{'ime': 'Britanka samička BLH WCF Pedigree',\n",
       "  'cena': '750',\n",
       "  'datum': '16.05.2023.'},\n",
       " {'ime': 'Britanka - britanke', 'cena': '500', 'datum': '17.05.2023.'},\n",
       " {'ime': 'Ragdoll mladički',\n",
       "  'cena': 'Cena po dogovoru',\n",
       "  'datum': '17.05.2023.'},\n",
       " {'ime': 'SOFI', 'cena': 'Cena po dogovoru', 'datum': '17.05.2023.'},\n",
       " {'ime': 'VLADKO', 'cena': 'Cena po dogovoru', 'datum': '17.05.2023.'},\n",
       " {'ime': 'ALFI (rezerviran)',\n",
       "  'cena': 'Cena po dogovoru',\n",
       "  'datum': '17.05.2023.'},\n",
       " {'ime': 'Britanec za parjenje',\n",
       "  'cena': 'Cena po dogovoru',\n",
       "  'datum': '16.05.2023.'},\n",
       " {'ime': 'Mala črna igriva in cartljiva mucka išče novi dom',\n",
       "  'cena': '0',\n",
       "  'datum': '16.05.2023.'},\n",
       " {'ime': 'Britanka samička BLH WCF Pedigree',\n",
       "  'cena': '750',\n",
       "  'datum': '16.05.2023.'},\n",
       " {'ime': 'prodam britanko', 'cena': '300', 'datum': '16.05.2023.'},\n",
       " {'ime': 'Britanke modre', 'cena': '500', 'datum': '16.05.2023.'},\n",
       " {'ime': 'BENGALKA - MLADIČKI S FIFe RODOVNIKOM',\n",
       "  'cena': '1',\n",
       "  'datum': '16.05.2023.'},\n",
       " {'ime': 'BRITANKA - MLADIČKI čistokrvni z rodovniki',\n",
       "  'cena': 'Cena po dogovoru',\n",
       "  'datum': '16.05.2023.'},\n",
       " {'ime': 'Maine coon mladicki',\n",
       "  'cena': 'Cena po dogovoru',\n",
       "  'datum': '15.05.2023.'},\n",
       " {'ime': 'Bengalska mačka - SILVER MLADIČKI - slovenski rodovnik FIFe',\n",
       "  'cena': '900',\n",
       "  'datum': '15.05.2023.'},\n",
       " {'ime': 'Britanke z rodovnikom',\n",
       "  'cena': 'Cena po dogovoru',\n",
       "  'datum': '15.05.2023.'},\n",
       " {'ime': 'Britanka mladiči', 'cena': '500', 'datum': '15.05.2023.'},\n",
       " {'ime': 'Ragdoll mladički', 'cena': '500', 'datum': '15.05.2023.'},\n",
       " {'ime': 'Perzijske mačke, mladički',\n",
       "  'cena': 'Cena po dogovoru',\n",
       "  'datum': '14.05.2023.'},\n",
       " {'ime': 'Dolgodlaki mucek', 'cena': '200', 'datum': '14.05.2023.'},\n",
       " {'ime': 'Mlade mucke', 'cena': 'Cena po dogovoru', 'datum': '14.05.2023.'},\n",
       " {'ime': 'Dolgodlaka britanka', 'cena': '200', 'datum': '14.05.2023.'},\n",
       " {'ime': 'Siamski muc', 'cena': 'Cena po dogovoru', 'datum': '14.05.2023.'},\n",
       " {'ime': 'Maine coon mladički',\n",
       "  'cena': 'Cena po dogovoru',\n",
       "  'datum': '14.05.2023.'},\n",
       " {'ime': 'Bengalski mačići',\n",
       "  'cena': 'Cena po dogovoru',\n",
       "  'datum': '13.05.2023.'},\n",
       " {'ime': 'Maine coon mladicki',\n",
       "  'cena': 'Cena po dogovoru',\n",
       "  'datum': '13.05.2023.'}]"
      ]
     },
     "execution_count": 24,
     "metadata": {},
     "output_type": "execute_result"
    }
   ],
   "source": [
    "ads_from_file(frontpage_filename, cat_directory)"
   ]
  },
  {
   "attachments": {},
   "cell_type": "markdown",
   "metadata": {},
   "source": [
    "# 3. Shranimo obdelane podatke"
   ]
  },
  {
   "cell_type": "code",
   "execution_count": 28,
   "metadata": {},
   "outputs": [],
   "source": [
    "def write_csv(fieldnames, rows, directory, filename):\n",
    "    \"\"\"\n",
    "    Funkcija v csv datoteko podano s parametroma \"directory\"/\"filename\" zapiše\n",
    "    vrednosti v parametru \"rows\" pripadajoče ključem podanim v \"fieldnames\"\n",
    "    \"\"\"\n",
    "    os.makedirs(directory, exist_ok=True)\n",
    "    path = os.path.join(directory, filename)\n",
    "    # ko odpremo datoteko, podamo neobevzni argument newline in ga nastavimo na prazen niz,\n",
    "    # sicer bomo na windowsih imeli grd csv, kjer bo vsaki dejanski vrstici sledila prazna\n",
    "    with open(path, 'w', encoding='utf-8', newline='') as csv_file:\n",
    "        writer = csv.DictWriter(csv_file, fieldnames=fieldnames)\n",
    "        writer.writeheader()\n",
    "        for row in rows:\n",
    "            writer.writerow(row)\n",
    "    return"
   ]
  },
  {
   "attachments": {},
   "cell_type": "markdown",
   "metadata": {},
   "source": [
    "Definirajte funkcijo, ki sprejme neprazen seznam slovarjev, ki predstavljajo\n",
    "podatke iz oglasa mačke, in zapiše vse podatke v csv datoteko. Imena za\n",
    "stolpce [fieldnames] pridobite iz slovarjev."
   ]
  },
  {
   "cell_type": "code",
   "execution_count": 29,
   "metadata": {},
   "outputs": [],
   "source": [
    "def write_cat_ads_to_csv(ads, directory, filename):\n",
    "    \"\"\"Funkcija vse podatke iz parametra \"ads\" zapiše v csv datoteko podano s\n",
    "    parametroma \"directory\"/\"filename\". Funkcija predpostavi, da so ključi vseh\n",
    "    slovarjev parametra ads enaki in je seznam ads neprazen.\"\"\"\n",
    "    # Stavek assert preveri da zahteva velja\n",
    "    # Če drži se program normalno izvaja, drugače pa sproži napako\n",
    "    # Prednost je v tem, da ga lahko pod določenimi pogoji izklopimo v\n",
    "    # produkcijskem okolju\n",
    "    assert ads and (all(slovar.keys() == ads[0].keys() for slovar in ads))\n",
    "    imena_stolpcev = sorted(ads[0])\n",
    "    write_csv(imena_stolpcev, ads, directory, filename)\n",
    "    "
   ]
  },
  {
   "cell_type": "code",
   "execution_count": 30,
   "metadata": {},
   "outputs": [],
   "source": [
    "vsi_slovarji = ads_from_file(frontpage_filename, cat_directory)\n",
    "write_cat_ads_to_csv(vsi_slovarji, \"obdelani_podatki\", csv_filename)"
   ]
  },
  {
   "attachments": {},
   "cell_type": "markdown",
   "metadata": {},
   "source": [
    "# 4. Vse skupaj\n",
    "\n",
    "Ko imamo enkrat vse pripravljeno, je koristno, da vse korake združimo v eno samo funkcijo, ki z enim klikom opravi vse delo.\n"
   ]
  },
  {
   "cell_type": "code",
   "execution_count": 31,
   "metadata": {},
   "outputs": [],
   "source": [
    "def main(redownload=True, reparse=True):\n",
    "    \"\"\"Funkcija izvede celoten del pridobivanja podatkov:\n",
    "    1. Oglase prenese iz bolhe\n",
    "    2. Lokalno html datoteko pretvori v lepšo predstavitev podatkov\n",
    "    3. Podatke shrani v csv datoteko\n",
    "    \"\"\"\n",
    "    # 1. Najprej v lokalno datoteko shranimo glavno stran\n",
    "    pot_html = os.path.join(cat_directory, frontpage_filename)\n",
    "    if redownload or not os.path.exists(pot_html):\n",
    "        # če zahtevamo ponovno nalaganje ali pa html_datoteka\n",
    "        # še ne obstaja, jo naložimo s spleta\n",
    "        save_frontpage(cats_frontpage_url, cat_directory, frontpage_filename)\n",
    "    else:\n",
    "        print(f\"Datoteka {pot_html} že obstaja\")\n",
    "    csv_mapa = \"obdelani_podatki\"\n",
    "    pot_csv = os.path.join(csv_mapa, csv_filename)\n",
    "    # 2. in 3.: obdelava html-ja in shranjevanje v csv\n",
    "    if reparse or not os.path.exists(pot_csv):\n",
    "        # če zahtevamo ponovno obdelavo ali pa csv_datoteka\n",
    "        # še ne obstaja, jo ustvarimo (ponovno)\n",
    "        vsi_slovarji = ads_from_file(frontpage_filename, cat_directory)\n",
    "        write_cat_ads_to_csv(vsi_slovarji, \"obdelani_podatki\", csv_filename)\n",
    "    else:\n",
    "        print(f\"Datoteka {pot_csv} že obstaja\")\n",
    "\n"
   ]
  },
  {
   "cell_type": "code",
   "execution_count": 32,
   "metadata": {},
   "outputs": [
    {
     "name": "stdout",
     "output_type": "stream",
     "text": [
      "Datoteka podatki\\glavna.html že obstaja\n",
      "Datoteka obdelani_podatki\\macke.csv že obstaja\n"
     ]
    }
   ],
   "source": [
    "main(False, False)"
   ]
  }
 ],
 "metadata": {
  "kernelspec": {
   "display_name": "Python 3.10.7 ('venv': venv)",
   "language": "python",
   "name": "python3"
  },
  "language_info": {
   "codemirror_mode": {
    "name": "ipython",
    "version": 3
   },
   "file_extension": ".py",
   "mimetype": "text/x-python",
   "name": "python",
   "nbconvert_exporter": "python",
   "pygments_lexer": "ipython3",
   "version": "3.11.3"
  },
  "orig_nbformat": 4,
  "vscode": {
   "interpreter": {
    "hash": "28befde4123ec291c0d27540a5936db054bf9c0a91e21d078b9060db462b9bc2"
   }
  }
 },
 "nbformat": 4,
 "nbformat_minor": 2
}
